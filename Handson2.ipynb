{
  "metadata": {
    "language_info": {
      "codemirror_mode": {
        "name": "python",
        "version": 3
      },
      "file_extension": ".py",
      "mimetype": "text/x-python",
      "name": "python",
      "nbconvert_exporter": "python",
      "pygments_lexer": "ipython3",
      "version": "3.8"
    },
    "kernelspec": {
      "name": "python",
      "display_name": "Python (Pyodide)",
      "language": "python"
    }
  },
  "nbformat_minor": 4,
  "nbformat": 4,
  "cells": [
    {
      "cell_type": "markdown",
      "source": "# H1:This is level 1 Heading*\n## H2:This is level 2 heading\n### H3:This is level 3 heading\n#### H4:This is level 4 heading",
      "metadata": {}
    },
    {
      "cell_type": "markdown",
      "source": "",
      "metadata": {}
    },
    {
      "cell_type": "markdown",
      "source": "[Skills Network](https://skills.network/) ",
      "metadata": {}
    },
    {
      "cell_type": "markdown",
      "source": "|country name|capital|\n|------------|--------|\n|India       |New Delhi|\n|Australia   |Canberra|\n",
      "metadata": {}
    },
    {
      "cell_type": "markdown",
      "source": "## Welcome to Python Programming\nLauncher:![This is SN Labs New launcher](https://cf-courses-data.s3.us.cloud-object-storage.appdomain.cloud/IBMDeveloperSkillsNetwork-DS0105EN-SkillsNetwork/labs/Labs_V4/images/Launcher.png)\n",
      "metadata": {}
    },
    {
      "cell_type": "markdown",
      "source": "[Tools for Data science](https://www.coursera.org/learn/open-source-tools-for-data-science/home)",
      "metadata": {}
    },
    {
      "cell_type": "markdown",
      "source": "|Fruits | Quantity(Kg) | Price(in Rupee)|\n|---- | ----- | ----------|\n|Apple | 2  | 500    |\n|Orange| 1 | 200|",
      "metadata": {}
    },
    {
      "cell_type": "markdown",
      "source": "1. Python\n2. Java\n3. c++",
      "metadata": {}
    },
    {
      "cell_type": "code",
      "source": "",
      "metadata": {},
      "execution_count": null,
      "outputs": []
    }
  ]
}